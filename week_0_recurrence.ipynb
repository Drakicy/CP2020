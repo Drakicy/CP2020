{
 "cells": [
  {
   "cell_type": "markdown",
   "metadata": {},
   "source": [
    "Compute integrals of the form\n",
    "\n",
    "$$\n",
    "I_n = \\int_0^1 x^n e^{1-x}\\, dx\\;.\n",
    "$$\n",
    "\n",
    "Integrating by parts, we obtain a recurrence relation\n",
    "\n",
    "$$\n",
    "I_n = n I_{n-1} - 1 \\;,\n",
    "$$\n",
    "\n",
    "with the initial condition\n",
    "\n",
    "$$\n",
    "I_0 = e - 1\\;.\n",
    "$$"
   ]
  },
  {
   "cell_type": "markdown",
   "metadata": {},
   "source": [
    "These integrals can be computed using symbolic maths with `sympy`:"
   ]
  },
  {
   "cell_type": "code",
   "execution_count": 1,
   "metadata": {},
   "outputs": [],
   "source": [
    "import sympy\n",
    "x = sympy.Symbol('x')\n",
    "N = 25\n",
    "exact = [float(sympy.integrate(x**n * sympy.exp(1 - x), (x, 0, 1))) for n in range(N)]"
   ]
  },
  {
   "cell_type": "markdown",
   "metadata": {},
   "source": [
    "Use the recurrence relation to compute these integrals  from $n=0$ up to $n = 24$ inclusive. \n",
    "\n",
    "\n",
    "First, use the upwards recursion, from $n=1$ upwards. Your code below must product a list of the 25 values of the integrals."
   ]
  },
  {
   "cell_type": "code",
   "execution_count": 10,
   "metadata": {},
   "outputs": [],
   "source": [
    "def upwards_recursion(n):\n",
    "    \"\"\"Compute the integrals using the upwards recursion.\"\"\"\n",
    "    from math import e\n",
    "    if n == 1: \n",
    "        return [e - 1]\n",
    "    res = upwards_recursion(n - 1)\n",
    "    res.append(n * res[-1] - 1)\n",
    "    return res"
   ]
  },
  {
   "cell_type": "markdown",
   "metadata": {},
   "source": [
    "Compare your results with the exact values. Discuss"
   ]
  },
  {
   "cell_type": "code",
   "execution_count": 11,
   "metadata": {},
   "outputs": [
    {
     "name": "stdout",
     "output_type": "stream",
     "text": [
      "1.718281828459045 1.7182818284590453\n",
      "2.43656365691809 0.7182818284590452\n",
      "6.3096909707542705 0.43656365691809046\n",
      "24.238763883017082 0.30969097075427143\n",
      "120.19381941508541 0.23876388301708565\n",
      "720.1629164905125 0.19381941508542824\n",
      "5040.140415433588 0.16291649051256946\n",
      "40320.1233234687 0.14041543358798622\n",
      "362880.10991121834 0.12332346870388973\n",
      "3628800.0991121833 0.10991121833500754\n",
      "39916800.09023402 0.0991121833500754\n",
      "479001600.08280826 0.09023401685082952\n",
      "6227020800.076508 0.08280820220995427\n",
      "87178291200.0711 0.07650662872940558\n",
      "1307674368000.0667 0.07109280221167809\n",
      "20922789888000.066 0.0663920331751714\n",
      "355687428096000.1 0.06227253080274239\n",
      "6402373705728001.0 0.05863302364662064\n",
      "1.2164510040883202e+17 0.05539442563917152\n",
      "2.4329020081766405e+18 0.052494087144258815\n",
      "5.109094217170945e+19 0.049881742885176245\n",
      "1.1240007277776078e+21 0.04751660058870116\n",
      "2.585201673888498e+22 0.04536521295142559\n",
      "6.204484017332394e+23 0.04339989788278872\n",
      "1.5511210043330986e+25 0.041597549186929206\n"
     ]
    },
    {
     "ename": "AssertionError",
     "evalue": "\nNot equal to tolerance rtol=1e-07, atol=0\n\nMismatch: 96%\nMax absolute difference: 1.551121e+25\nMax relative difference: 3.72887594e+26\n x: array([1.718282e+00, 2.436564e+00, 6.309691e+00, 2.423876e+01,\n       1.201938e+02, 7.201629e+02, 5.040140e+03, 4.032012e+04,\n       3.628801e+05, 3.628800e+06, 3.991680e+07, 4.790016e+08,...\n y: array([1.718282, 0.718282, 0.436564, 0.309691, 0.238764, 0.193819,\n       0.162916, 0.140415, 0.123323, 0.109911, 0.099112, 0.090234,\n       0.082808, 0.076507, 0.071093, 0.066392, 0.062273, 0.058633,...",
     "output_type": "error",
     "traceback": [
      "\u001b[0;31m---------------------------------------------------------------------------\u001b[0m",
      "\u001b[0;31mAssertionError\u001b[0m                            Traceback (most recent call last)",
      "\u001b[0;32m<ipython-input-11-c38f55379de6>\u001b[0m in \u001b[0;36m<module>\u001b[0;34m\u001b[0m\n\u001b[1;32m      5\u001b[0m \u001b[0;34m\u001b[0m\u001b[0m\n\u001b[1;32m      6\u001b[0m \u001b[0;32mfrom\u001b[0m \u001b[0mnumpy\u001b[0m\u001b[0;34m.\u001b[0m\u001b[0mtesting\u001b[0m \u001b[0;32mimport\u001b[0m \u001b[0massert_allclose\u001b[0m\u001b[0;34m\u001b[0m\u001b[0;34m\u001b[0m\u001b[0m\n\u001b[0;32m----> 7\u001b[0;31m \u001b[0massert_allclose\u001b[0m\u001b[0;34m(\u001b[0m\u001b[0mvalues\u001b[0m\u001b[0;34m,\u001b[0m \u001b[0mexact\u001b[0m\u001b[0;34m)\u001b[0m\u001b[0;34m\u001b[0m\u001b[0;34m\u001b[0m\u001b[0m\n\u001b[0m",
      "\u001b[0;32m/srv/conda/envs/notebook/lib/python3.7/site-packages/numpy/testing/_private/utils.py\u001b[0m in \u001b[0;36massert_allclose\u001b[0;34m(actual, desired, rtol, atol, equal_nan, err_msg, verbose)\u001b[0m\n\u001b[1;32m   1499\u001b[0m     \u001b[0mheader\u001b[0m \u001b[0;34m=\u001b[0m \u001b[0;34m'Not equal to tolerance rtol=%g, atol=%g'\u001b[0m \u001b[0;34m%\u001b[0m \u001b[0;34m(\u001b[0m\u001b[0mrtol\u001b[0m\u001b[0;34m,\u001b[0m \u001b[0matol\u001b[0m\u001b[0;34m)\u001b[0m\u001b[0;34m\u001b[0m\u001b[0;34m\u001b[0m\u001b[0m\n\u001b[1;32m   1500\u001b[0m     assert_array_compare(compare, actual, desired, err_msg=str(err_msg),\n\u001b[0;32m-> 1501\u001b[0;31m                          verbose=verbose, header=header, equal_nan=equal_nan)\n\u001b[0m\u001b[1;32m   1502\u001b[0m \u001b[0;34m\u001b[0m\u001b[0m\n\u001b[1;32m   1503\u001b[0m \u001b[0;34m\u001b[0m\u001b[0m\n",
      "\u001b[0;32m/srv/conda/envs/notebook/lib/python3.7/site-packages/numpy/testing/_private/utils.py\u001b[0m in \u001b[0;36massert_array_compare\u001b[0;34m(comparison, x, y, err_msg, verbose, header, precision, equal_nan, equal_inf)\u001b[0m\n\u001b[1;32m    825\u001b[0m                                 \u001b[0mverbose\u001b[0m\u001b[0;34m=\u001b[0m\u001b[0mverbose\u001b[0m\u001b[0;34m,\u001b[0m \u001b[0mheader\u001b[0m\u001b[0;34m=\u001b[0m\u001b[0mheader\u001b[0m\u001b[0;34m,\u001b[0m\u001b[0;34m\u001b[0m\u001b[0;34m\u001b[0m\u001b[0m\n\u001b[1;32m    826\u001b[0m                                 names=('x', 'y'), precision=precision)\n\u001b[0;32m--> 827\u001b[0;31m             \u001b[0;32mraise\u001b[0m \u001b[0mAssertionError\u001b[0m\u001b[0;34m(\u001b[0m\u001b[0mmsg\u001b[0m\u001b[0;34m)\u001b[0m\u001b[0;34m\u001b[0m\u001b[0;34m\u001b[0m\u001b[0m\n\u001b[0m\u001b[1;32m    828\u001b[0m     \u001b[0;32mexcept\u001b[0m \u001b[0mValueError\u001b[0m\u001b[0;34m:\u001b[0m\u001b[0;34m\u001b[0m\u001b[0;34m\u001b[0m\u001b[0m\n\u001b[1;32m    829\u001b[0m         \u001b[0;32mimport\u001b[0m \u001b[0mtraceback\u001b[0m\u001b[0;34m\u001b[0m\u001b[0;34m\u001b[0m\u001b[0m\n",
      "\u001b[0;31mAssertionError\u001b[0m: \nNot equal to tolerance rtol=1e-07, atol=0\n\nMismatch: 96%\nMax absolute difference: 1.551121e+25\nMax relative difference: 3.72887594e+26\n x: array([1.718282e+00, 2.436564e+00, 6.309691e+00, 2.423876e+01,\n       1.201938e+02, 7.201629e+02, 5.040140e+03, 4.032012e+04,\n       3.628801e+05, 3.628800e+06, 3.991680e+07, 4.790016e+08,...\n y: array([1.718282, 0.718282, 0.436564, 0.309691, 0.238764, 0.193819,\n       0.162916, 0.140415, 0.123323, 0.109911, 0.099112, 0.090234,\n       0.082808, 0.076507, 0.071093, 0.066392, 0.062273, 0.058633,..."
     ]
    }
   ],
   "source": [
    "values = upwards_recursion(25)\n",
    "for value, exact_value in zip(values, exact):\n",
    "    print(value, exact_value)\n",
    "\n",
    "from numpy.testing import assert_allclose\n",
    "assert_allclose(values, exact)"
   ]
  },
  {
   "cell_type": "code",
   "execution_count": null,
   "metadata": {},
   "outputs": [],
   "source": [
    "#The number 'e' itself isn't defined properly. That builds up an error iteration after iteration. As a result there is a big difference in answers."
   ]
  },
  {
   "cell_type": "markdown",
   "metadata": {},
   "source": [
    "Next, use the downwards recursion. Your code below must produce a list of the 25 values of the integrals, from 0 to 24."
   ]
  },
  {
   "cell_type": "code",
   "execution_count": 6,
   "metadata": {},
   "outputs": [],
   "source": [
    "def downwards_recursion(n, point = None):\n",
    "    if point == None:\n",
    "        return downwards_recursion(0, 2 * n)[:n]\n",
    "    else:\n",
    "        if n == point:\n",
    "            return [0]\n",
    "        else:\n",
    "            res = downwards_recursion(n + 1, point)\n",
    "            res.insert(0, (res[0] + 1) / (n + 1))\n",
    "            return res"
   ]
  },
  {
   "cell_type": "markdown",
   "metadata": {},
   "source": [
    "Repeat the comparison with the exact values. Discuss."
   ]
  },
  {
   "cell_type": "code",
   "execution_count": 7,
   "metadata": {},
   "outputs": [
    {
     "name": "stdout",
     "output_type": "stream",
     "text": [
      "1.718281828459045 1.7182818284590453\n",
      "0.7182818284590452 0.7182818284590452\n",
      "0.43656365691809046 0.43656365691809046\n",
      "0.30969097075427143 0.30969097075427143\n",
      "0.23876388301708565 0.23876388301708565\n",
      "0.19381941508542824 0.19381941508542824\n",
      "0.16291649051256946 0.16291649051256946\n",
      "0.14041543358798622 0.14041543358798622\n",
      "0.12332346870388972 0.12332346870388973\n",
      "0.10991121833500754 0.10991121833500754\n",
      "0.09911218335007542 0.0991121833500754\n",
      "0.09023401685082953 0.09023401685082952\n",
      "0.08280820220995427 0.08280820220995427\n",
      "0.07650662872940558 0.07650662872940558\n",
      "0.0710928022116781 0.07109280221167809\n",
      "0.0663920331751714 0.0663920331751714\n",
      "0.062272530802742386 0.06227253080274239\n",
      "0.05863302364662063 0.05863302364662064\n",
      "0.05539442563917151 0.05539442563917152\n",
      "0.052494087144258815 0.052494087144258815\n",
      "0.049881742885176245 0.049881742885176245\n",
      "0.04751660058870117 0.04751660058870116\n",
      "0.0453652129514256 0.04536521295142559\n",
      "0.04339989788278872 0.04339989788278872\n",
      "0.04159754918692921 0.041597549186929206\n"
     ]
    }
   ],
   "source": [
    "values = downwards_recursion(25)\n",
    "for value, exact_value in zip(values, exact):\n",
    "    print(value, exact_value)\n",
    "\n",
    "from numpy.testing import assert_allclose\n",
    "assert_allclose(values, exact)"
   ]
  },
  {
   "cell_type": "code",
   "execution_count": null,
   "metadata": {},
   "outputs": [],
   "source": []
  }
 ],
 "metadata": {
  "kernelspec": {
   "display_name": "Python 3",
   "language": "python",
   "name": "python3"
  },
  "language_info": {
   "codemirror_mode": {
    "name": "ipython",
    "version": 3
   },
   "file_extension": ".py",
   "mimetype": "text/x-python",
   "name": "python",
   "nbconvert_exporter": "python",
   "pygments_lexer": "ipython3",
   "version": "3.7.3"
  }
 },
 "nbformat": 4,
 "nbformat_minor": 4
}
