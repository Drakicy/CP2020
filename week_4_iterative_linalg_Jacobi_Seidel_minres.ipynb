{
 "cells": [
  {
   "cell_type": "markdown",
   "metadata": {},
   "source": [
    "# Simple iteration for systems of linear equations"
   ]
  },
  {
   "cell_type": "markdown",
   "metadata": {},
   "source": [
    "First, generate a random diagonally dominant matrix, for testing."
   ]
  },
  {
   "cell_type": "code",
   "execution_count": 13,
   "metadata": {},
   "outputs": [],
   "source": [
    "import numpy as np\n",
    "rndm = np.random.RandomState(1234)\n",
    "\n",
    "n = 10\n",
    "A = rndm.uniform(size=(n, n)) + np.diagflat([15]*n)\n",
    "b = rndm.uniform(size=n)"
   ]
  },
  {
   "cell_type": "markdown",
   "metadata": {},
   "source": [
    "# I.  Jacobi iteration\n",
    "\n",
    "Given\n",
    "\n",
    "$$\n",
    "A x = b\n",
    "$$\n",
    "\n",
    "separate the diagonal part $D$,\n",
    "\n",
    "$$ A = D + (A - D) $$\n",
    "\n",
    "and write\n",
    "\n",
    "$$\n",
    "x = D^{-1} (D - A) x + D^{-1} b\\;.\n",
    "$$\n",
    "\n",
    "Then iterate\n",
    "\n",
    "$$\n",
    "x_{n + 1} = B x_{n} + c\\;,\n",
    "$$\n",
    "\n",
    "where \n",
    "\n",
    "$$\n",
    "B = D^{-1} (A - D) \\qquad \\text{and} \\qquad c = D^{-1} b\n",
    "$$\n"
   ]
  },
  {
   "cell_type": "markdown",
   "metadata": {},
   "source": [
    "Let's construct the matrix and the r.h.s. for the Jacobi iteration"
   ]
  },
  {
   "cell_type": "code",
   "execution_count": 14,
   "metadata": {},
   "outputs": [],
   "source": [
    "diag_1d = np.diag(A)\n",
    "\n",
    "B = -A.copy()\n",
    "np.fill_diagonal(B, 0)\n",
    "\n",
    "D = np.diag(diag_1d)\n",
    "invD = np.diag(1./diag_1d)\n",
    "BB = invD @ B \n",
    "c = invD @ b"
   ]
  },
  {
   "cell_type": "code",
   "execution_count": 15,
   "metadata": {},
   "outputs": [],
   "source": [
    "# sanity checks\n",
    "from numpy.testing import assert_allclose\n",
    "\n",
    "assert_allclose(-B + D, A)\n",
    "\n",
    "\n",
    "# xx is a \"ground truth\" solution, compute it using a direct method\n",
    "xx = np.linalg.solve(A, b)\n",
    "\n",
    "np.testing.assert_allclose(A@xx, b)\n",
    "np.testing.assert_allclose(D@xx, B@xx + b)\n",
    "np.testing.assert_allclose(xx, BB@xx + c)"
   ]
  },
  {
   "cell_type": "markdown",
   "metadata": {},
   "source": [
    "Check that $\\| B\\| \\leqslant 1$:"
   ]
  },
  {
   "cell_type": "code",
   "execution_count": 16,
   "metadata": {},
   "outputs": [
    {
     "data": {
      "text/plain": [
       "0.36436161983015336"
      ]
     },
     "execution_count": 16,
     "metadata": {},
     "output_type": "execute_result"
    }
   ],
   "source": [
    "np.linalg.norm(BB)"
   ]
  },
  {
   "cell_type": "markdown",
   "metadata": {},
   "source": [
    "### Do the Jacobi iteration"
   ]
  },
  {
   "cell_type": "code",
   "execution_count": 17,
   "metadata": {},
   "outputs": [],
   "source": [
    "n_iter = 50\n",
    "\n",
    "x0 = np.ones(n)\n",
    "x = x0\n",
    "for _ in range(n_iter):\n",
    "    x = BB @ x + c"
   ]
  },
  {
   "cell_type": "code",
   "execution_count": 18,
   "metadata": {},
   "outputs": [
    {
     "data": {
      "text/plain": [
       "array([ 0.,  0., -0., -0.,  0.,  0., -0.,  0., -0.,  0.])"
      ]
     },
     "execution_count": 18,
     "metadata": {},
     "output_type": "execute_result"
    }
   ],
   "source": [
    "# Check the result:\n",
    "\n",
    "A @ x - b"
   ]
  },
  {
   "cell_type": "markdown",
   "metadata": {},
   "source": [
    "### Task I.1\n",
    "\n",
    "Collect the proof-of-concept above into a single function implementing the Jacobi iteration. This function should receive the r.h.s. matrix $A$, the l.h.s. vector `b`, and the number of iterations to perform.\n",
    "\n",
    "\n",
    "The matrix $A$ in the illustration above is strongly diagonally dominant, by construction. \n",
    "What happens if the diagonal matrix elements of $A$ are made smaller? Check the convergence of the Jacobi iteration, and check the value of the norm of $B$.\n",
    "\n",
    "(20% of the total grade)\n"
   ]
  },
  {
   "cell_type": "code",
   "execution_count": 19,
   "metadata": {},
   "outputs": [
    {
     "name": "stdout",
     "output_type": "stream",
     "text": [
      "Test №1, maxtrix with a ratio np.average(np.diag(A)) ~ or >> n:\n",
      "[-0.  0. -0.  0. -0.  0. -0.  0.  0.  0.]\n",
      "Test №2, maxtrix with a ratio np.average(np.diag(A)) << n:\n"
     ]
    },
    {
     "ename": "ValueError",
     "evalue": "||B|| >= 1, the iteration sequence does not converge!",
     "output_type": "error",
     "traceback": [
      "\u001b[0;31m---------------------------------------------------------------------------\u001b[0m",
      "\u001b[0;31mValueError\u001b[0m                                Traceback (most recent call last)",
      "\u001b[0;32m<ipython-input-19-5f3288da7fed>\u001b[0m in \u001b[0;36m<module>\u001b[0;34m\u001b[0m\n\u001b[1;32m     36\u001b[0m \u001b[0mb\u001b[0m \u001b[0;34m=\u001b[0m \u001b[0mrndm\u001b[0m\u001b[0;34m.\u001b[0m\u001b[0muniform\u001b[0m\u001b[0;34m(\u001b[0m\u001b[0msize\u001b[0m\u001b[0;34m=\u001b[0m\u001b[0mn\u001b[0m\u001b[0;34m)\u001b[0m\u001b[0;34m\u001b[0m\u001b[0;34m\u001b[0m\u001b[0m\n\u001b[1;32m     37\u001b[0m \u001b[0mprint\u001b[0m\u001b[0;34m(\u001b[0m\u001b[0;34m\"Test №2, maxtrix with a ratio np.average(np.diag(A)) << n:\"\u001b[0m\u001b[0;34m)\u001b[0m\u001b[0;34m\u001b[0m\u001b[0;34m\u001b[0m\u001b[0m\n\u001b[0;32m---> 38\u001b[0;31m \u001b[0mprint\u001b[0m\u001b[0;34m(\u001b[0m\u001b[0mA\u001b[0m \u001b[0;34m@\u001b[0m \u001b[0mjacobi_iter_method\u001b[0m\u001b[0;34m(\u001b[0m\u001b[0mA\u001b[0m\u001b[0;34m,\u001b[0m \u001b[0mb\u001b[0m\u001b[0;34m)\u001b[0m \u001b[0;34m-\u001b[0m \u001b[0mb\u001b[0m\u001b[0;34m)\u001b[0m\u001b[0;34m\u001b[0m\u001b[0;34m\u001b[0m\u001b[0m\n\u001b[0m\u001b[1;32m     39\u001b[0m \u001b[0;34m\u001b[0m\u001b[0m\n\u001b[1;32m     40\u001b[0m \u001b[0;31m#As we can see, there is a problem with matrixes that have a small average with respect to the dimension number\u001b[0m\u001b[0;34m\u001b[0m\u001b[0;34m\u001b[0m\u001b[0;34m\u001b[0m\u001b[0m\n",
      "\u001b[0;32m<ipython-input-19-5f3288da7fed>\u001b[0m in \u001b[0;36mjacobi_iter_method\u001b[0;34m(A, b, max_iter)\u001b[0m\n\u001b[1;32m     11\u001b[0m     \u001b[0;31m#Checking a convergence\u001b[0m\u001b[0;34m\u001b[0m\u001b[0;34m\u001b[0m\u001b[0;34m\u001b[0m\u001b[0m\n\u001b[1;32m     12\u001b[0m     \u001b[0;32mif\u001b[0m \u001b[0mnp\u001b[0m\u001b[0;34m.\u001b[0m\u001b[0mlinalg\u001b[0m\u001b[0;34m.\u001b[0m\u001b[0mnorm\u001b[0m\u001b[0;34m(\u001b[0m\u001b[0mB\u001b[0m\u001b[0;34m)\u001b[0m \u001b[0;34m>=\u001b[0m \u001b[0;36m1\u001b[0m\u001b[0;34m:\u001b[0m\u001b[0;34m\u001b[0m\u001b[0;34m\u001b[0m\u001b[0m\n\u001b[0;32m---> 13\u001b[0;31m         \u001b[0;32mraise\u001b[0m \u001b[0mValueError\u001b[0m\u001b[0;34m(\u001b[0m\u001b[0;34m\"||B|| >= 1, the iteration sequence does not converge!\"\u001b[0m\u001b[0;34m)\u001b[0m\u001b[0;34m\u001b[0m\u001b[0;34m\u001b[0m\u001b[0m\n\u001b[0m\u001b[1;32m     14\u001b[0m     \u001b[0;31m#Creating c vector\u001b[0m\u001b[0;34m\u001b[0m\u001b[0;34m\u001b[0m\u001b[0;34m\u001b[0m\u001b[0m\n\u001b[1;32m     15\u001b[0m     \u001b[0mc\u001b[0m \u001b[0;34m=\u001b[0m \u001b[0mD_inv\u001b[0m \u001b[0;34m@\u001b[0m \u001b[0mb\u001b[0m\u001b[0;34m\u001b[0m\u001b[0;34m\u001b[0m\u001b[0m\n",
      "\u001b[0;31mValueError\u001b[0m: ||B|| >= 1, the iteration sequence does not converge!"
     ]
    }
   ],
   "source": [
    "def jacobi_iter_method(A, b, max_iter = 1000):\n",
    "    temp = A.copy()\n",
    "    #Creating a diagonal matrix\n",
    "    diag_elements = np.diag(A)\n",
    "    D = np.diag(diag_elements)\n",
    "    #Inversing it\n",
    "    D_inv = np.diag(1. / diag_elements)\n",
    "    \n",
    "    #Creating B-matrix\n",
    "    B = D_inv @ (D - temp)\n",
    "    #Checking a convergence\n",
    "    if np.linalg.norm(B) >= 1:\n",
    "        raise ValueError(\"||B|| >= 1, the iteration sequence does not converge!\")\n",
    "    #Creating c vector\n",
    "    c = D_inv @ b\n",
    "    \n",
    "    #Starting iterations\n",
    "    x = np.ones_like(b)\n",
    "    for i in range(max_iter):\n",
    "        x = B @ x + c\n",
    "    \n",
    "    return x\n",
    "\n",
    "np.set_printoptions(suppress=True)\n",
    "\n",
    "#Test №1\n",
    "n = 10\n",
    "A = rndm.uniform(size=(n, n)) + np.diagflat([20]*n)\n",
    "b = rndm.uniform(size=n)\n",
    "print(\"Test №1, maxtrix with a ratio np.average(np.diag(A)) ~ or >> n:\")\n",
    "print(A @ jacobi_iter_method(A, b) - b)\n",
    "\n",
    "#Test №2\n",
    "n = 10\n",
    "A = rndm.uniform(size=(n, n))\n",
    "b = rndm.uniform(size=n)\n",
    "print(\"Test №2, maxtrix with a ratio np.average(np.diag(A)) << n:\")\n",
    "print(A @ jacobi_iter_method(A, b) - b)\n",
    "\n",
    "#As we can see, there is a problem with matrixes that have a small average with respect to the dimension number"
   ]
  },
  {
   "cell_type": "code",
   "execution_count": 20,
   "metadata": {},
   "outputs": [
    {
     "name": "stdout",
     "output_type": "stream",
     "text": [
      "Test №3, maxtrix with a ratio np.average(np.diag(A)) ~ n:\n",
      "[ 0.  0.  0.  0.  0.  0.  0.  0.  0.  0. -0.  0.]\n",
      "Test №3, maxtrix with a ratio np.average(np.diag(A)) << n:\n"
     ]
    },
    {
     "ename": "ValueError",
     "evalue": "||B|| >= 1, the iteration sequence does not converge!",
     "output_type": "error",
     "traceback": [
      "\u001b[0;31m---------------------------------------------------------------------------\u001b[0m",
      "\u001b[0;31mValueError\u001b[0m                                Traceback (most recent call last)",
      "\u001b[0;32m<ipython-input-20-f58f61d5a9ef>\u001b[0m in \u001b[0;36m<module>\u001b[0;34m\u001b[0m\n\u001b[1;32m     10\u001b[0m \u001b[0mb\u001b[0m \u001b[0;34m=\u001b[0m \u001b[0mrndm\u001b[0m\u001b[0;34m.\u001b[0m\u001b[0muniform\u001b[0m\u001b[0;34m(\u001b[0m\u001b[0msize\u001b[0m\u001b[0;34m=\u001b[0m\u001b[0mn\u001b[0m\u001b[0;34m)\u001b[0m\u001b[0;34m\u001b[0m\u001b[0;34m\u001b[0m\u001b[0m\n\u001b[1;32m     11\u001b[0m \u001b[0mprint\u001b[0m\u001b[0;34m(\u001b[0m\u001b[0;34m\"Test №3, maxtrix with a ratio np.average(np.diag(A)) << n:\"\u001b[0m\u001b[0;34m)\u001b[0m\u001b[0;34m\u001b[0m\u001b[0;34m\u001b[0m\u001b[0m\n\u001b[0;32m---> 12\u001b[0;31m \u001b[0mprint\u001b[0m\u001b[0;34m(\u001b[0m\u001b[0mA\u001b[0m \u001b[0;34m@\u001b[0m \u001b[0mjacobi_iter_method\u001b[0m\u001b[0;34m(\u001b[0m\u001b[0mA\u001b[0m\u001b[0;34m,\u001b[0m \u001b[0mb\u001b[0m\u001b[0;34m)\u001b[0m \u001b[0;34m-\u001b[0m \u001b[0mb\u001b[0m\u001b[0;34m)\u001b[0m\u001b[0;34m\u001b[0m\u001b[0;34m\u001b[0m\u001b[0m\n\u001b[0m\u001b[1;32m     13\u001b[0m \u001b[0;34m\u001b[0m\u001b[0m\n\u001b[1;32m     14\u001b[0m \u001b[0;31m#Here is the same matrix but with different n. We get an error with the second part of the test\u001b[0m\u001b[0;34m\u001b[0m\u001b[0;34m\u001b[0m\u001b[0;34m\u001b[0m\u001b[0m\n",
      "\u001b[0;32m<ipython-input-19-5f3288da7fed>\u001b[0m in \u001b[0;36mjacobi_iter_method\u001b[0;34m(A, b, max_iter)\u001b[0m\n\u001b[1;32m     11\u001b[0m     \u001b[0;31m#Checking a convergence\u001b[0m\u001b[0;34m\u001b[0m\u001b[0;34m\u001b[0m\u001b[0;34m\u001b[0m\u001b[0m\n\u001b[1;32m     12\u001b[0m     \u001b[0;32mif\u001b[0m \u001b[0mnp\u001b[0m\u001b[0;34m.\u001b[0m\u001b[0mlinalg\u001b[0m\u001b[0;34m.\u001b[0m\u001b[0mnorm\u001b[0m\u001b[0;34m(\u001b[0m\u001b[0mB\u001b[0m\u001b[0;34m)\u001b[0m \u001b[0;34m>=\u001b[0m \u001b[0;36m1\u001b[0m\u001b[0;34m:\u001b[0m\u001b[0;34m\u001b[0m\u001b[0;34m\u001b[0m\u001b[0m\n\u001b[0;32m---> 13\u001b[0;31m         \u001b[0;32mraise\u001b[0m \u001b[0mValueError\u001b[0m\u001b[0;34m(\u001b[0m\u001b[0;34m\"||B|| >= 1, the iteration sequence does not converge!\"\u001b[0m\u001b[0;34m)\u001b[0m\u001b[0;34m\u001b[0m\u001b[0;34m\u001b[0m\u001b[0m\n\u001b[0m\u001b[1;32m     14\u001b[0m     \u001b[0;31m#Creating c vector\u001b[0m\u001b[0;34m\u001b[0m\u001b[0;34m\u001b[0m\u001b[0;34m\u001b[0m\u001b[0m\n\u001b[1;32m     15\u001b[0m     \u001b[0mc\u001b[0m \u001b[0;34m=\u001b[0m \u001b[0mD_inv\u001b[0m \u001b[0;34m@\u001b[0m \u001b[0mb\u001b[0m\u001b[0;34m\u001b[0m\u001b[0;34m\u001b[0m\u001b[0m\n",
      "\u001b[0;31mValueError\u001b[0m: ||B|| >= 1, the iteration sequence does not converge!"
     ]
    }
   ],
   "source": [
    "#Test №3\n",
    "n = 12\n",
    "A = rndm.uniform(size=(n, n)) + np.diagflat([10]*n)\n",
    "b = rndm.uniform(size=n)\n",
    "print(\"Test №3, maxtrix with a ratio np.average(np.diag(A)) ~ n:\")\n",
    "print(A @ jacobi_iter_method(A, b) - b)\n",
    "\n",
    "n = 100\n",
    "A = rndm.uniform(size=(n, n)) + np.diagflat([10]*n)\n",
    "b = rndm.uniform(size=n)\n",
    "print(\"Test №3, maxtrix with a ratio np.average(np.diag(A)) << n:\")\n",
    "print(A @ jacobi_iter_method(A, b) - b)\n",
    "\n",
    "#Here is the same matrix but with different n. We get an error with the second part of the test"
   ]
  },
  {
   "cell_type": "markdown",
   "metadata": {},
   "source": [
    "# II. Seidel's iteration."
   ]
  },
  {
   "cell_type": "markdown",
   "metadata": {},
   "source": [
    "##### Task II.1\n",
    "\n",
    "Implement the Seidel's iteration. \n",
    "\n",
    "Test it on a random matrix. Study the convergence of iterations, relate to the norm of the iteration matrix.\n",
    "\n",
    "(30% of the total grade)"
   ]
  },
  {
   "cell_type": "code",
   "execution_count": 21,
   "metadata": {},
   "outputs": [
    {
     "name": "stdout",
     "output_type": "stream",
     "text": [
      "Test №1, maxtrix with a ratio np.average(np.diag(A)) ~ or >> n:\n",
      "0.26853800189616406\n",
      "[ 0.  0.  0.  0.  0. -0. -0.  0.  0.  0.]\n",
      "Test №2, maxtrix with a ratio np.average(np.diag(A)) << n:\n",
      "742.6330080928483\n",
      "[nan nan nan nan nan nan nan nan nan nan]\n"
     ]
    },
    {
     "name": "stderr",
     "output_type": "stream",
     "text": [
      "/srv/conda/envs/notebook/lib/python3.7/site-packages/ipykernel_launcher.py:19: RuntimeWarning: overflow encountered in matmul\n",
      "/srv/conda/envs/notebook/lib/python3.7/site-packages/ipykernel_launcher.py:19: RuntimeWarning: invalid value encountered in matmul\n",
      "/srv/conda/envs/notebook/lib/python3.7/site-packages/ipykernel_launcher.py:44: RuntimeWarning: invalid value encountered in matmul\n"
     ]
    }
   ],
   "source": [
    "def seidel_iter_method(A, b, eps = 1e-15, max_iter = np.inf):\n",
    "    #Checking a convergence\n",
    "    print(np.linalg.norm(-np.linalg.inv(np.tril(A, 0)) @ np.triu(A, 1)))\n",
    "    #if np.linalg.norm(-np.linalg.inv(np.tril(A, 0)) @ np.triu(A, 1)) >= 1:\n",
    "    #    raise ValueError(\"||-(L + D)^(-1) U|| >= 1, the iteration sequence does not converge!\")\n",
    "    \n",
    "    #Setting up initial elements\n",
    "    n = A.shape[0]\n",
    "    diag_elements = np.diag(A)\n",
    "    x0 = np.ones_like(b)\n",
    "    iterc = 0\n",
    "    a_tol = True\n",
    "    \n",
    "    #Starting iterations\n",
    "    while a_tol and iterc < max_iter:\n",
    "        x = x0.copy()\n",
    "        #Transfering sum elements from the one side of an equation to another in a triagonal form\n",
    "        for i in range(n):\n",
    "            p1 = A[i,:i] @ x[:i]\n",
    "            p2 = A[i,i+1:] @ x0[i+1:]\n",
    "            x[i] = (b[i] - p1 - p2) / diag_elements[i]\n",
    "           \n",
    "        #Chekcing tolerance\n",
    "        a_tol = np.linalg.norm(x - x0) > eps\n",
    "        iterc += 1\n",
    "        x0 = x\n",
    "    \n",
    "    return x\n",
    "\n",
    "np.set_printoptions(suppress=True)\n",
    "\n",
    "#Test №1\n",
    "n = 10\n",
    "A = rndm.uniform(size=(n, n)) + np.diagflat([15]*n)\n",
    "b = rndm.uniform(size=n)\n",
    "print(\"Test №1, maxtrix with a ratio np.average(np.diag(A)) ~ or >> n:\")\n",
    "print(A @ seidel_iter_method(A, b) - b)\n",
    "\n",
    "#Test №2\n",
    "n = 10\n",
    "A = rndm.uniform(size=(n, n))\n",
    "b = rndm.uniform(size=n)\n",
    "print(\"Test №2, maxtrix with a ratio np.average(np.diag(A)) << n:\")\n",
    "print(A @ seidel_iter_method(A, b) - b)\n",
    "\n",
    "#As we can see, there is a problem with matrixes that have a small average with respect to the dimension number"
   ]
  },
  {
   "cell_type": "code",
   "execution_count": 22,
   "metadata": {},
   "outputs": [
    {
     "name": "stdout",
     "output_type": "stream",
     "text": [
      "Test №3, maxtrix with a ratio np.average(np.diag(A)) ~ n:\n",
      "0.4125882514156868\n",
      "[-0. -0. -0. -0. -0. -0. -0.  0.  0.  0.  0. -0.]\n",
      "Test №3, maxtrix with a ratio np.average(np.diag(A)) << n:\n",
      "2.811032220063042\n",
      "[ 0.  0.  0.  0.  0.  0.  0.  0.  0.  0.  0. -0.  0.  0.  0.  0. -0.  0.\n",
      " -0. -0.  0. -0. -0. -0. -0. -0. -0. -0. -0. -0. -0. -0. -0. -0. -0. -0.\n",
      " -0. -0. -0. -0. -0. -0. -0. -0. -0. -0. -0. -0. -0. -0. -0. -0. -0. -0.\n",
      " -0. -0. -0. -0. -0. -0. -0. -0. -0. -0. -0. -0. -0. -0. -0. -0. -0. -0.\n",
      " -0. -0. -0. -0. -0. -0. -0. -0. -0. -0. -0. -0. -0. -0. -0. -0. -0. -0.\n",
      " -0. -0. -0. -0. -0. -0.  0. -0.  0.  0.]\n"
     ]
    }
   ],
   "source": [
    "#Test №3\n",
    "n = 12\n",
    "A = rndm.uniform(size=(n, n)) + np.diagflat([10]*n)\n",
    "b = rndm.uniform(size=n)\n",
    "print(\"Test №3, maxtrix with a ratio np.average(np.diag(A)) ~ n:\")\n",
    "print(A @ seidel_iter_method(A, b) - b)\n",
    "\n",
    "n = 100\n",
    "A = rndm.uniform(size=(n, n)) + np.diagflat([10]*n)\n",
    "b = rndm.uniform(size=n)\n",
    "print(\"Test №3, maxtrix with a ratio np.average(np.diag(A)) << n:\")\n",
    "print(A @ seidel_iter_method(A, b) - b)"
   ]
  },
  {
   "cell_type": "markdown",
   "metadata": {},
   "source": [
    "# III. Minimum residual scheme"
   ]
  },
  {
   "cell_type": "markdown",
   "metadata": {},
   "source": [
    "### Task III.1\n",
    "\n",
    "Implement the $\\textit{minimum residual}$ scheme: an explicit non-stationary method, where at each step you select the iteration parameter $\\tau_n$ to minimize the residual $\\mathbf{r}_{n+1}$ given $\\mathbf{r}_n$. Test it on a random matrix, study the convergence to the solution, in terms of the norm of the residual and the deviation from the ground truth solution (which you can obtain using a direct method). Study how the iteration parameter $\\tau_n$ changes as iterations progress.\n",
    "\n",
    "(50% of the grade)"
   ]
  },
  {
   "cell_type": "code",
   "execution_count": 23,
   "metadata": {},
   "outputs": [
    {
     "name": "stdout",
     "output_type": "stream",
     "text": [
      "Test №1, maxtrix with a ratio np.average(np.diag(A)) ~ or >> n:\n",
      "[-0. -0. -0.  0. -0. -0.  0. -0.  0.  0.]\n",
      "Test №2, maxtrix with a ratio np.average(np.diag(A)) << n:\n",
      "[ 0.06680646 -0.09118684 -0.21895542 -0.44316393  0.19610635  0.29321666\n",
      "  0.09291847 -0.23668966  0.26970425  0.09841283]\n"
     ]
    }
   ],
   "source": [
    "def minres(A, b, eps = 1e-15, max_iter = np.inf):\n",
    "    #Setting up initial elements\n",
    "    x = np.ones_like(b)\n",
    "    iterc = 0\n",
    "    a_tol = True\n",
    "    \n",
    "    while a_tol and iterc < max_iter:\n",
    "        #Computing a residual\n",
    "        res = A @ x - b\n",
    "        #Minimizing res_(n+1) @ res_(n+1)\n",
    "        delta = A @ res\n",
    "        tau = delta @ res / (delta @ delta)\n",
    "        #Computing new x\n",
    "        x -= tau * res\n",
    "        #Computing residual for a new x to compare with an old one\n",
    "        res0 = A @ x - b\n",
    "        \n",
    "        #Chekcing tolerance\n",
    "        a_tol = np.linalg.norm(res - res0) > eps\n",
    "        iterc += 1\n",
    "        \n",
    "    return x\n",
    "\n",
    "np.set_printoptions(suppress=True)\n",
    "\n",
    "#Test №1\n",
    "n = 10\n",
    "A = rndm.uniform(size=(n, n)) + np.diagflat([15]*n)\n",
    "b = rndm.uniform(size=n)\n",
    "print(\"Test №1, maxtrix with a ratio np.average(np.diag(A)) ~ or >> n:\")\n",
    "print(A @ minres(A, b) - b)\n",
    "\n",
    "#Test №2\n",
    "n = 10\n",
    "A = rndm.uniform(size=(n, n))\n",
    "b = rndm.uniform(size=n)\n",
    "print(\"Test №2, maxtrix with a ratio np.average(np.diag(A)) << n:\")\n",
    "print(A @ minres(A, b) - b)"
   ]
  },
  {
   "cell_type": "code",
   "execution_count": 24,
   "metadata": {},
   "outputs": [
    {
     "name": "stdout",
     "output_type": "stream",
     "text": [
      "Test №3, maxtrix with a ratio np.average(np.diag(A)) ~ n:\n",
      "[0. 0. 0. 0. 0. 0. 0. 0. 0. 0. 0. 0.]\n",
      "Test №3, maxtrix with a ratio np.average(np.diag(A)) << n:\n",
      "[ 0.  0.  0.  0.  0. -0.  0. -0.  0.  0.  0. -0.  0. -0.  0.  0. -0.  0.\n",
      "  0.  0.  0.  0.  0.  0.  0. -0.  0. -0.  0.  0. -0.  0.  0.  0.  0.  0.\n",
      "  0. -0. -0. -0.  0.  0.  0.  0.  0.  0.  0. -0.  0.  0. -0.  0.  0.  0.\n",
      " -0. -0.  0.  0.  0.  0.  0.  0.  0.  0. -0.  0.  0.  0.  0.  0. -0. -0.\n",
      "  0.  0. -0.  0. -0.  0.  0. -0.  0. -0.  0.  0.  0.  0.  0. -0. -0. -0.\n",
      " -0.  0.  0.  0. -0.  0.  0.  0.  0. -0.]\n"
     ]
    }
   ],
   "source": [
    "#Test №3\n",
    "n = 12\n",
    "A = rndm.uniform(size=(n, n)) + np.diagflat([10]*n)\n",
    "b = rndm.uniform(size=n)\n",
    "print(\"Test №3, maxtrix with a ratio np.average(np.diag(A)) ~ n:\")\n",
    "print(A @ minres(A, b) - b)\n",
    "\n",
    "n = 100\n",
    "A = rndm.uniform(size=(n, n)) + np.diagflat([10]*n)\n",
    "b = rndm.uniform(size=n)\n",
    "print(\"Test №3, maxtrix with a ratio np.average(np.diag(A)) << n:\")\n",
    "print(A @ minres(A, b) - b)"
   ]
  },
  {
   "cell_type": "code",
   "execution_count": null,
   "metadata": {},
   "outputs": [],
   "source": []
  }
 ],
 "metadata": {
  "kernelspec": {
   "display_name": "Python 3",
   "language": "python",
   "name": "python3"
  },
  "language_info": {
   "codemirror_mode": {
    "name": "ipython",
    "version": 3
   },
   "file_extension": ".py",
   "mimetype": "text/x-python",
   "name": "python",
   "nbconvert_exporter": "python",
   "pygments_lexer": "ipython3",
   "version": "3.7.6"
  }
 },
 "nbformat": 4,
 "nbformat_minor": 4
}
